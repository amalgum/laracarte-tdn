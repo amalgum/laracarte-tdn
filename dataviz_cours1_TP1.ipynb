{
  "nbformat": 4,
  "nbformat_minor": 0,
  "metadata": {
    "_change_revision": 0,
    "_is_fork": false,
    "kernelspec": {
      "display_name": "Python 3",
      "language": "python",
      "name": "python3"
    },
    "language_info": {
      "codemirror_mode": {
        "name": "ipython",
        "version": 3
      },
      "file_extension": ".py",
      "mimetype": "text/x-python",
      "name": "python",
      "nbconvert_exporter": "python",
      "pygments_lexer": "ipython3",
      "version": "3.7.4-final"
    },
    "colab": {
      "name": "dataviz_cours1_TP_corrige.ipynb",
      "provenance": [],
      "collapsed_sections": []
    }
  },
  "cells": [
    {
      "cell_type": "code",
      "metadata": {
        "id": "1dOr4AgkmAW_"
      },
      "source": [
        "!pip install plotly==5.2.2"
      ],
      "execution_count": null,
      "outputs": []
    },
    {
      "cell_type": "markdown",
      "metadata": {
        "id": "ANNNSyTt-9cO"
      },
      "source": [
        "## Import des librairies ##"
      ]
    },
    {
      "cell_type": "code",
      "metadata": {
        "id": "bst2_m1l-9cQ"
      },
      "source": [
        "#Imports librairies de base\n",
        "import numpy as np\n",
        "import pandas as pd\n",
        "from datetime import datetime\n",
        "#Bibliothèques pour Cross validation\n",
        "\n",
        "#Affichage de HTML\n",
        "from IPython.display import display, HTML\n",
        "import plotly.graph_objects as go\n",
        "import plotly.express as px"
      ],
      "execution_count": null,
      "outputs": []
    },
    {
      "cell_type": "code",
      "metadata": {
        "id": "ItCbEsXx_PRu"
      },
      "source": [
        "from google.colab import drive\n",
        "drive.mount('/content/drive')"
      ],
      "execution_count": null,
      "outputs": []
    },
    {
      "cell_type": "markdown",
      "metadata": {
        "_cell_guid": "25b1e1db-8bc5-7029-f719-91da523bd121",
        "_uuid": "5c867fcbb300bcf3c9b8986bba9949da2a2df931",
        "id": "0O8OHL1z-9cT"
      },
      "source": [
        "# 1. Historique du cours Google"
      ]
    },
    {
      "cell_type": "markdown",
      "metadata": {
        "id": "Nqg9tWum-9cU"
      },
      "source": [
        "1.1 Chargement des données Google goog.csv. Mettre le chemin correct"
      ]
    },
    {
      "cell_type": "code",
      "metadata": {
        "id": "MLjHr7Ky-9cV"
      },
      "source": [
        "google_file='drive/My Drive/EPSI/Data/goog.csv'\n",
        "google_cours = pd.read_csv(google_file,sep=';',decimal=',')\n",
        "google_cours['Date']= google_cours['Date'].apply(lambda _: datetime.strptime(_,\"%d/%m/%Y\"))\n",
        "google_cours.sample(10)"
      ],
      "execution_count": null,
      "outputs": []
    },
    {
      "cell_type": "markdown",
      "metadata": {
        "id": "jEjT1g4V-9cc"
      },
      "source": [
        "1.2 : Afficher l'évolution du cours (close) dans le temps."
      ]
    },
    {
      "cell_type": "code",
      "metadata": {
        "id": "Nl4awxns-9cd"
      },
      "source": [
        "\n"
      ],
      "execution_count": null,
      "outputs": []
    },
    {
      "cell_type": "markdown",
      "metadata": {
        "id": "IToPF7iGMd0r"
      },
      "source": [
        "1.3 Pour identifier la tendance créer un bar chart, avec une colonne par année. Afficher la valeur."
      ]
    },
    {
      "cell_type": "code",
      "metadata": {
        "id": "-pYmy-xnM5mq"
      },
      "source": [
        ""
      ],
      "execution_count": null,
      "outputs": []
    },
    {
      "cell_type": "markdown",
      "metadata": {
        "id": "y8m0ys228UvN"
      },
      "source": [
        "1.4 : Afficher la distribution des variations. La distributions suit-elle une loi normale ?"
      ]
    },
    {
      "cell_type": "code",
      "metadata": {
        "id": "zphZkcem8e0x"
      },
      "source": [
        "\n"
      ],
      "execution_count": null,
      "outputs": []
    },
    {
      "cell_type": "markdown",
      "metadata": {
        "id": "gDCM9RWE-iLU"
      },
      "source": [
        "1.5 Calculer l'écart type (std) et la moyenne (mean) de la variation avec la fonction describe() de pandas \n",
        "<br>Quelle est la probabilité que la variation de cours soit supérieure à 6% pour une journée ?\n",
        "<br> Que pensez-vous de ce résultat ?"
      ]
    },
    {
      "cell_type": "code",
      "metadata": {
        "id": "WtqiAKx3-gzd"
      },
      "source": [
        ""
      ],
      "execution_count": null,
      "outputs": []
    },
    {
      "cell_type": "markdown",
      "metadata": {
        "id": "_Aq6gRIvHKFs"
      },
      "source": [
        "1.6 Tracer une composition de plusieurs graphes (subplots) en vous inspirant du catalogue Plotly"
      ]
    },
    {
      "cell_type": "markdown",
      "metadata": {
        "id": "ytoabOH5HTt1"
      },
      "source": [
        "#2. Etude Stack Overflow"
      ]
    },
    {
      "cell_type": "markdown",
      "metadata": {
        "id": "6QcyqDrXyMtT"
      },
      "source": [
        "## Acquisition des données"
      ]
    },
    {
      "cell_type": "markdown",
      "metadata": {
        "id": "cbLBrDLjHjWc"
      },
      "source": [
        "2.1 : Lire les données survey_results_public.xlsx. <br>Afficher 10 exemples et les informations du dataset (info)"
      ]
    },
    {
      "cell_type": "code",
      "metadata": {
        "id": "lAP-dpbrHgs9"
      },
      "source": [
        "\n"
      ],
      "execution_count": null,
      "outputs": []
    },
    {
      "cell_type": "code",
      "metadata": {
        "id": "YeLys5vMJ5EN"
      },
      "source": [
        ""
      ],
      "execution_count": null,
      "outputs": []
    },
    {
      "cell_type": "markdown",
      "metadata": {
        "id": "4LLBvRgMo-UK"
      },
      "source": [
        "2.2 En utilisant le graphe Ploty Express Treemap, Visualiser le nombre de répondant par pays."
      ]
    },
    {
      "cell_type": "code",
      "metadata": {
        "id": "SLNYLBNqPHmw"
      },
      "source": [
        ""
      ],
      "execution_count": null,
      "outputs": []
    },
    {
      "cell_type": "markdown",
      "metadata": {
        "id": "JZrYTnmKrxw7"
      },
      "source": [
        "2.3 Dans, des diagrammes séparés, représenter dans un pie Chart la proportion des genres (Gender) pour l'Inde, la France, les USA et l'Allemagne"
      ]
    },
    {
      "cell_type": "code",
      "metadata": {
        "id": "kv9SJQlQr8g6"
      },
      "source": [
        ""
      ],
      "execution_count": null,
      "outputs": []
    },
    {
      "cell_type": "markdown",
      "metadata": {
        "id": "w7oWmUBleCvj"
      },
      "source": [
        "## Creation d'un DataFrame pour l'étude des salaires"
      ]
    },
    {
      "cell_type": "markdown",
      "metadata": {
        "id": "5Wm577iJzBPa"
      },
      "source": [
        "2.4 : Afficher les boxplots pour les champs numériques Age\tCompTotal\tConvertedComp\tWorkWeekHrs\tYearsCode. <br> Tip: Les colonnes Age1stCode et YearsCode à besoin d'un traitement préalable et d'être transformer en float.  "
      ]
    },
    {
      "cell_type": "code",
      "metadata": {
        "id": "bXi0xb0pyzgb"
      },
      "source": [
        "\n",
        "  "
      ],
      "execution_count": null,
      "outputs": []
    },
    {
      "cell_type": "markdown",
      "metadata": {
        "id": "kaenUYXN0Faj"
      },
      "source": [
        "2.5 :  Creer un nouveau DataFrame excluant les lignes avec des outliers ou des valeurs nulles.<br>Réafficher les boxplots"
      ]
    },
    {
      "cell_type": "code",
      "metadata": {
        "id": "l4WD5IVX0cxn"
      },
      "source": [
        ""
      ],
      "execution_count": null,
      "outputs": []
    },
    {
      "cell_type": "markdown",
      "metadata": {
        "id": "TcMibaiNeRp9"
      },
      "source": [
        "## Distribution comparée des salaires"
      ]
    },
    {
      "cell_type": "markdown",
      "metadata": {
        "id": "fMTDsHc1p04o"
      },
      "source": [
        ""
      ]
    },
    {
      "cell_type": "markdown",
      "metadata": {
        "id": "luSakNOuX_0T"
      },
      "source": [
        "2.6 : En utilisant Plotly Express, Afficher dans le même graphique les distributions comparées des salaires en $ (ConvertedComp) pour l'Inde, la France, les USA et l'Allemagne"
      ]
    },
    {
      "cell_type": "code",
      "metadata": {
        "id": "r_-KM8NmYAfy"
      },
      "source": [
        ""
      ],
      "execution_count": null,
      "outputs": []
    },
    {
      "cell_type": "markdown",
      "metadata": {
        "id": "KUf3Qb5MYBAC"
      },
      "source": [
        "2.7 Superposer en transparence les histogramme de salaires pour la france et l'Allemagne"
      ]
    },
    {
      "cell_type": "code",
      "metadata": {
        "id": "dVOuuu6DYCbK"
      },
      "source": [
        ""
      ],
      "execution_count": null,
      "outputs": []
    },
    {
      "cell_type": "markdown",
      "metadata": {
        "id": "NN_7iA7Necc1"
      },
      "source": [
        "## Analyse Salaire / Ancienneté"
      ]
    },
    {
      "cell_type": "markdown",
      "metadata": {
        "id": "O7RYLJF5YC0S"
      },
      "source": [
        "2.8 Afficher les scatters plots Age / Salaire par pays (Inde, France, USA et Allemagne) en distinguant Man et Woman. <br> Pour simplifier les graphiques. Regrouper préalablement dans \"others\" toutes les valeurs autres que 'Man' et 'Woman' (y compris NaN)"
      ]
    },
    {
      "cell_type": "code",
      "metadata": {
        "id": "z6SHOo6Mee0U"
      },
      "source": [
        ""
      ],
      "execution_count": null,
      "outputs": []
    },
    {
      "cell_type": "markdown",
      "metadata": {
        "id": "2137tples8Vb"
      },
      "source": [
        "2.9 Même tache pour les variables 'Age1stCode', 'ConvertedComp', 'WorkWeekHrs', 'YearsCode','YearsCodePro'."
      ]
    },
    {
      "cell_type": "code",
      "metadata": {
        "id": "FR1eb1MyYC-a"
      },
      "source": [
        ""
      ],
      "execution_count": null,
      "outputs": []
    },
    {
      "cell_type": "markdown",
      "metadata": {
        "id": "U7ujdJ8RvkJ7"
      },
      "source": [
        "2.10 En calculant la variable R2, déterminer la variable la mieux corrélée avec le salaire en France et aux USA."
      ]
    },
    {
      "cell_type": "code",
      "metadata": {
        "id": "AXAXX7YMvyvO"
      },
      "source": [
        ""
      ],
      "execution_count": null,
      "outputs": []
    },
    {
      "cell_type": "markdown",
      "metadata": {
        "id": "6F2vxMaD7ppL"
      },
      "source": [
        "## Analyse des technos utilisées et des souhaits  (en partant des données complètes)"
      ]
    },
    {
      "cell_type": "markdown",
      "metadata": {
        "id": "W8F5_3_i7p2q"
      },
      "source": [
        "2.11 Faire un split de la colonne LanguageWorkedWith dans 5 nouvelles colonnes : LanguageWorkedWith_1 à LanguageWorkedWith_5"
      ]
    },
    {
      "cell_type": "code",
      "metadata": {
        "id": "ktB-cNB37qLa"
      },
      "source": [
        ""
      ],
      "execution_count": null,
      "outputs": []
    },
    {
      "cell_type": "markdown",
      "metadata": {
        "id": "-HzTiTB-ZN6c"
      },
      "source": [
        "2.12 : creer un nouveau DataFrame \"Long\" concatenant en lignes les colonnes LanguageWorkedWith_1 à LanguageWorkedWith_5. <br> créer un dataframe contenant le nombre d'occurence de chaque technologie"
      ]
    },
    {
      "cell_type": "code",
      "metadata": {
        "id": "sVgcWP9ZMSXD"
      },
      "source": [
        ""
      ],
      "execution_count": null,
      "outputs": []
    },
    {
      "cell_type": "markdown",
      "metadata": {
        "id": "tYlpYzq7aG2a"
      },
      "source": [
        "2.13 : creer un autre nouveau DataFrame \"Long\" concatenant en lignes les colonnes LanguageDesireNextYear_1 à LanguageDesireNextYear_5 <br> créer un dataframe contenant le nombre d'occurence de chaque technologie"
      ]
    },
    {
      "cell_type": "code",
      "metadata": {
        "id": "fHwBRM0zPrtj"
      },
      "source": [
        ""
      ],
      "execution_count": null,
      "outputs": []
    },
    {
      "cell_type": "markdown",
      "metadata": {
        "id": "9LmEgpYbcfoq"
      },
      "source": [
        "2.14 Concaténer les deux dataframes verticalement (axis=1) pour obtenir la comparaison entre travaillé et désiré <br> Ajouter une colonne \"Evolution\" égale à (Désiré - Travaillé)/Travaillé"
      ]
    },
    {
      "cell_type": "code",
      "metadata": {
        "id": "GdSrqxo8V_Bq"
      },
      "source": [
        ""
      ],
      "execution_count": null,
      "outputs": []
    },
    {
      "cell_type": "markdown",
      "metadata": {
        "id": "io8HEyphmjUc"
      },
      "source": [
        "2.15 Représenter les évolutions dans un diagramme en barre"
      ]
    },
    {
      "cell_type": "code",
      "metadata": {
        "id": "XDZmmfsCmkET"
      },
      "source": [
        ""
      ],
      "execution_count": null,
      "outputs": []
    },
    {
      "cell_type": "markdown",
      "metadata": {
        "id": "ZKDSEKcdtBfT"
      },
      "source": [
        "2.16 : Représenter dans un scatter plot les technologies avec les coordonnées 'Worked With' et 'Desired'. Ajouter une couleur pour l'évolution."
      ]
    },
    {
      "cell_type": "code",
      "metadata": {
        "id": "VRVn48LHqFu7"
      },
      "source": [
        ""
      ],
      "execution_count": null,
      "outputs": []
    },
    {
      "cell_type": "markdown",
      "metadata": {
        "id": "nreLQp7sX2hr"
      },
      "source": [
        "2.17 En utilisant une double boucle sur les technologies, créer yn DataFrame à 3 colonnes:\n",
        "- Technologie_pratiquee\n",
        "- Technologie_souhaite\n",
        "- Nombre d'association\n",
        "Ex : Nombre de personnes faisant du C++ et voulant faire du Java    "
      ]
    },
    {
      "cell_type": "code",
      "metadata": {
        "id": "LjUOOtLdX2hs"
      },
      "source": [
        ""
      ],
      "execution_count": null,
      "outputs": []
    },
    {
      "cell_type": "markdown",
      "metadata": {
        "id": "taYYecEAX2ht"
      },
      "source": [
        "2.18 : Afficher le DataFrame de 2.17 dans une heatmap annotée"
      ]
    },
    {
      "cell_type": "code",
      "metadata": {
        "id": "PFaOi9JkX2hu"
      },
      "source": [
        ""
      ],
      "execution_count": null,
      "outputs": []
    },
    {
      "cell_type": "markdown",
      "metadata": {
        "id": "N3Noyfau9EAr"
      },
      "source": [
        "Répéter l'opération pour les champs suivants:<br> WebframeWorkedWith/WebframeDesireNextYear, <br>PlatformWorkedWith/PlatformDesireNextYear,  <br>LanguageWorkedWith/LanguageDesireNextYear,<br> DatabaseWorkedWith/DatabaseDesireNextYear"
      ]
    },
    {
      "cell_type": "code",
      "metadata": {
        "id": "FcxumSVCI9wK"
      },
      "source": [
        ""
      ],
      "execution_count": null,
      "outputs": []
    },
    {
      "cell_type": "markdown",
      "metadata": {
        "id": "nqSgpYz4n5zC"
      },
      "source": [
        "2.15 (Optionnel) : Réaliser une compositition de graphiques (subplots) en utilisant les données stack_overflow, sur le th_se me votre choix."
      ]
    },
    {
      "cell_type": "code",
      "metadata": {
        "id": "CxMspAkBoNr1"
      },
      "source": [
        ""
      ],
      "execution_count": null,
      "outputs": []
    }
  ]
}