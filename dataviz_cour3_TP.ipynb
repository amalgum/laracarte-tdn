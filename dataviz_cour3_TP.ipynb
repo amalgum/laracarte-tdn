{
  "nbformat": 4,
  "nbformat_minor": 0,
  "metadata": {
    "kernelspec": {
      "name": "python3",
      "display_name": "Python 3.9.6 64-bit"
    },
    "language_info": {
      "codemirror_mode": {
        "name": "ipython",
        "version": 3
      },
      "file_extension": ".py",
      "mimetype": "text/x-python",
      "name": "python",
      "nbconvert_exporter": "python",
      "pygments_lexer": "ipython3",
      "version": "3.9.6"
    },
    "interpreter": {
      "hash": "0d008810b9c8467bcb3ca39aa2180e5b81b3a9acb136aab30d47954377cc5120"
    },
    "colab": {
      "name": "dataviz_cour3_TP.ipynb",
      "provenance": []
    }
  },
  "cells": [
    {
      "cell_type": "markdown",
      "metadata": {
        "id": "OFC-d8-oG-O2"
      },
      "source": [
        "# TP Reduction des dimensions et Visualisation 3D"
      ]
    },
    {
      "cell_type": "code",
      "metadata": {
        "id": "mM_ZyZSiG-PE"
      },
      "source": [
        "!pip install plotly==5.2.2"
      ],
      "execution_count": null,
      "outputs": []
    },
    {
      "cell_type": "code",
      "metadata": {
        "id": "aVqweMkDG-PP"
      },
      "source": [
        "import numpy as np\n",
        "import pandas as pd\n",
        "\n",
        "# Affichage complet des dataframes\n",
        "pd.set_option('display.max_columns',100)\n",
        "pd.set_option('display.max_rows',1000)\n",
        "\n",
        "# Librairie graphique plotly\n",
        "import plotly.graph_objs as go"
      ],
      "execution_count": null,
      "outputs": []
    },
    {
      "cell_type": "markdown",
      "metadata": {
        "id": "0M9td96CG-PS"
      },
      "source": [
        "## Data Preparation"
      ]
    },
    {
      "cell_type": "code",
      "metadata": {
        "id": "UqHOfRemG-PT"
      },
      "source": [
        "#Adaper le chemin des données selon vos besoins\n",
        "players=pd.read_csv(\"data/fifa21.csv\")\n",
        "players.shape"
      ],
      "execution_count": null,
      "outputs": []
    },
    {
      "cell_type": "markdown",
      "metadata": {
        "id": "LKxJHG8FG-PU"
      },
      "source": [
        "1.1 Ne garder que les joueurs dont le poste ('Position') est définie et dont le score total ('OVA') est supérieur ou égal à 75."
      ]
    },
    {
      "cell_type": "code",
      "metadata": {
        "id": "LgQOXo_8G-PV"
      },
      "source": [
        ""
      ],
      "execution_count": null,
      "outputs": []
    },
    {
      "cell_type": "markdown",
      "metadata": {
        "id": "VAhwohciG-PV"
      },
      "source": [
        "1.2 : Créer une colonne type_poste regroupant les postes (colonne \"Position\") dans un type \"attaquants\",\"milieux\",\"defenseurs\" ou \"gardiens\"\n",
        "Si un joueur occupe plusieurs postes, prendre le premier cité en utilisant la fonction split."
      ]
    },
    {
      "cell_type": "code",
      "metadata": {
        "id": "R9DUoQGuG-PW"
      },
      "source": [
        "attaquants=['RF', 'ST', 'LW', 'LF', 'RS', 'LS', 'RM', 'LM','RW']\n",
        "milieux=['RCM','LCM','LDM','CAM','CDM','LAM','RDM','CM','RAM','CF']\n",
        "defenseurs=['RCB','CB','LCB','LB','RB','RWB','LWB']\n",
        "gardiens=['GK']\n"
      ],
      "execution_count": null,
      "outputs": []
    },
    {
      "cell_type": "markdown",
      "metadata": {
        "id": "XK9wKUKSG-PY"
      },
      "source": [
        "1.2b (optionnel): En utlisant la colonne OVA (Overall Rating), afficher le meilleur joueur pour chaque type de poste."
      ]
    },
    {
      "cell_type": "code",
      "metadata": {
        "id": "gu5kDG4rG-PZ"
      },
      "source": [
        ""
      ],
      "execution_count": null,
      "outputs": []
    },
    {
      "cell_type": "markdown",
      "metadata": {
        "id": "GbEFD1_kG-PZ"
      },
      "source": [
        "## 2. T-SNE\n",
        "2.1 Créer un nouveau dataframe extrait de celui que vous venez de contruire avec seulement les colonnes représentant les compétences des joueurs\n",
        "<br>Astuce : Penser à traiter les valeurs NaN, en leur attribuant par exemple la valeur 50."
      ]
    },
    {
      "cell_type": "code",
      "metadata": {
        "id": "4-V4Bk5lG-Pa"
      },
      "source": [
        "skills_ratings = ['Crossing', 'Finishing', 'Heading Accuracy', 'Short Passing', 'Volleys', 'Dribbling', 'Curve', 'FK Accuracy', 'Long Passing', 'Ball Control',\n",
        "                   'Movement', 'Acceleration', 'Sprint Speed', 'Agility', 'Reactions', 'Balance', 'Power', 'Shot Power', 'Jumping', 'Stamina', 'Strength', 'Long Shots',\n",
        "                   'Mentality', 'Aggression', 'Interceptions', 'Positioning', 'Vision', 'Penalties', 'Composure', 'Marking', 'Standing Tackle', 'Sliding Tackle', 'GK Diving',\n",
        "                   'GK Handling', 'GK Kicking', 'GK Positioning', 'GK Reflexes']"
      ],
      "execution_count": null,
      "outputs": []
    },
    {
      "cell_type": "markdown",
      "metadata": {
        "id": "uKuUmo9bG-Pb"
      },
      "source": [
        "2.2 Exécuter une transformation T_SNE  pour obtenir 3 composantes par joueur.\n",
        "<br> Vous pouvez essayer plusieurs valeurs pour la perplexité et le nombre d'itération"
      ]
    },
    {
      "cell_type": "code",
      "metadata": {
        "id": "YMo6DBCsG-Pc"
      },
      "source": [
        ""
      ],
      "execution_count": null,
      "outputs": []
    },
    {
      "cell_type": "markdown",
      "metadata": {
        "id": "Y7p0_JukG-Pd"
      },
      "source": [
        "2.3 Créer des filtres booléens par type de poste, puis sur les meilleurs joueurs (OVA au dessus de 90).<br>Astuce : Vous pouvez utiliser le dataframe de la partie 1 pour définir les filtres."
      ]
    },
    {
      "cell_type": "code",
      "metadata": {
        "id": "xRAmC9_aG-Pd"
      },
      "source": [
        ""
      ],
      "execution_count": null,
      "outputs": []
    },
    {
      "cell_type": "markdown",
      "metadata": {
        "id": "l5PSgXRlG-Pe"
      },
      "source": [
        "2.4 Creer dans un même graphique 4 nuages de points en 3D correspondant aux attaquants, milieux, défenseurs et gardiens"
      ]
    },
    {
      "cell_type": "code",
      "metadata": {
        "id": "Ei1j_eJWG-Pe"
      },
      "source": [
        ""
      ],
      "execution_count": null,
      "outputs": []
    },
    {
      "cell_type": "markdown",
      "metadata": {
        "id": "l_FbfeDDG-Pe"
      },
      "source": [
        "2.5 Retirer, les gardiens. En jouant avec les propriétés \"text\" et \"mode\" sur la trace, Afficher dans le graphique les noms des meilleurs joueurs"
      ]
    },
    {
      "cell_type": "code",
      "metadata": {
        "id": "YpnLH291G-Pf"
      },
      "source": [
        ""
      ],
      "execution_count": null,
      "outputs": []
    },
    {
      "cell_type": "markdown",
      "metadata": {
        "id": "YCxfa9YnG-Pf"
      },
      "source": [
        "## 3. ACP + Clustering"
      ]
    },
    {
      "cell_type": "markdown",
      "metadata": {
        "id": "32AcBrrvG-Pf"
      },
      "source": [
        "3.1 Ajouter au dataframe de la partie 1 un joueur \"Parfait\" (tous les ratings à 99). Recreer le dataframe des compétences."
      ]
    },
    {
      "cell_type": "code",
      "metadata": {
        "id": "kGi5PfgyG-Pf"
      },
      "source": [
        ""
      ],
      "execution_count": null,
      "outputs": []
    },
    {
      "cell_type": "markdown",
      "metadata": {
        "id": "m-ha6tfgG-Pg"
      },
      "source": [
        "3.2 Créer une division des joueurs en 5 clusters. Afficher le cluster (propriété \"labels_\") de chaque joueur"
      ]
    },
    {
      "cell_type": "code",
      "metadata": {
        "id": "pKrDkcE5G-Pg"
      },
      "source": [
        ""
      ],
      "execution_count": null,
      "outputs": []
    },
    {
      "cell_type": "markdown",
      "metadata": {
        "id": "rH2P3MjIG-Pg"
      },
      "source": [
        "3.3 Créer une projection PCA 3D des joueux suivant leurs compétences.\n",
        "Quelle est le % de variance expliquée par ces 3 dimensions ?"
      ]
    },
    {
      "cell_type": "code",
      "metadata": {
        "id": "jRC4hmNZG-Ph"
      },
      "source": [
        ""
      ],
      "execution_count": null,
      "outputs": []
    },
    {
      "cell_type": "markdown",
      "metadata": {
        "id": "CJodn36OG-Pi"
      },
      "source": [
        "3.4 Afficher les clusters en couleurs sur la représentation PCA en 3D des joueurs. \n",
        "Ajouter un label pour les meilleurs joueurs (OVA au dessus de 90)"
      ]
    },
    {
      "cell_type": "code",
      "metadata": {
        "id": "8F6QrBDIG-Pk"
      },
      "source": [
        ""
      ],
      "execution_count": null,
      "outputs": []
    },
    {
      "cell_type": "markdown",
      "metadata": {
        "id": "LxiZm4pqG-Pl"
      },
      "source": [
        "3.5(Optionnel) : Créer une visualisation dynamique permettant de choisir 2 équipes et de les comparer."
      ]
    },
    {
      "cell_type": "code",
      "metadata": {
        "id": "bXP13XSeG-Pl"
      },
      "source": [
        ""
      ],
      "execution_count": null,
      "outputs": []
    }
  ]
}